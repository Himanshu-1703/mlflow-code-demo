{
 "cells": [
  {
   "cell_type": "code",
   "execution_count": 2,
   "id": "f32f78dc-7d17-455a-8053-f351bc1bd71a",
   "metadata": {},
   "outputs": [],
   "source": [
    "import numpy as np\n",
    "from hyperopt import fmin, tpe, hp"
   ]
  },
  {
   "cell_type": "code",
   "execution_count": 4,
   "id": "a27c39a2-30a0-4553-8fd4-6f5506c2d472",
   "metadata": {},
   "outputs": [
    {
     "data": {
      "text/plain": [
       "4"
      ]
     },
     "execution_count": 4,
     "metadata": {},
     "output_type": "execute_result"
    }
   ],
   "source": [
    "# define objective funnction\n",
    "\n",
    "def objective(x):\n",
    "    return np.square(x - 5) + 4\n",
    "\n",
    "objective(5)"
   ]
  },
  {
   "cell_type": "code",
   "execution_count": 12,
   "id": "ce430e44-2362-437b-9e18-423a4f9acf3e",
   "metadata": {},
   "outputs": [
    {
     "data": {
      "text/plain": [
       "<hyperopt.pyll.base.Apply at 0x212ea4e1b50>"
      ]
     },
     "execution_count": 12,
     "metadata": {},
     "output_type": "execute_result"
    }
   ],
   "source": [
    "# hyperparameter space\n",
    "\n",
    "space = hp.uniform('x',-100,100)\n",
    "space"
   ]
  },
  {
   "cell_type": "code",
   "execution_count": 15,
   "id": "a7b364d7-aca5-4b2b-8e39-6c0651a919df",
   "metadata": {},
   "outputs": [
    {
     "name": "stdout",
     "output_type": "stream",
     "text": [
      "100%|█████████████████████████████████████████████| 1000/1000 [00:24<00:00, 41.52trial/s, best loss: 4.000005211260409]\n"
     ]
    }
   ],
   "source": [
    "best = fmin(fn=objective,space=space,algo=tpe.suggest,max_evals=1000)\n"
   ]
  },
  {
   "cell_type": "code",
   "execution_count": 16,
   "id": "46f135ce-c9e1-4b61-8e6b-90065b7faffd",
   "metadata": {},
   "outputs": [
    {
     "data": {
      "text/plain": [
       "{'x': 5.002282818523058}"
      ]
     },
     "execution_count": 16,
     "metadata": {},
     "output_type": "execute_result"
    }
   ],
   "source": [
    "best"
   ]
  },
  {
   "cell_type": "code",
   "execution_count": null,
   "id": "a88e0872-c6d2-4882-8105-2d678f40fbec",
   "metadata": {},
   "outputs": [],
   "source": []
  }
 ],
 "metadata": {
  "kernelspec": {
   "display_name": "Python 3 (ipykernel)",
   "language": "python",
   "name": "python3"
  },
  "language_info": {
   "codemirror_mode": {
    "name": "ipython",
    "version": 3
   },
   "file_extension": ".py",
   "mimetype": "text/x-python",
   "name": "python",
   "nbconvert_exporter": "python",
   "pygments_lexer": "ipython3",
   "version": "3.11.9"
  }
 },
 "nbformat": 4,
 "nbformat_minor": 5
}
